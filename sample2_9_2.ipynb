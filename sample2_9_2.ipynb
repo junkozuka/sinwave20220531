{
  "nbformat": 4,
  "nbformat_minor": 0,
  "metadata": {
    "colab": {
      "provenance": [],
      "authorship_tag": "ABX9TyMRvAQj/657Hea3faZ3tNun",
      "include_colab_link": true
    },
    "kernelspec": {
      "name": "python3",
      "display_name": "Python 3"
    },
    "language_info": {
      "name": "python"
    }
  },
  "cells": [
    {
      "cell_type": "markdown",
      "metadata": {
        "id": "view-in-github",
        "colab_type": "text"
      },
      "source": [
        "<a href=\"https://colab.research.google.com/github/junkozuka/sinwave20220531/blob/main/sample2_9_2.ipynb\" target=\"_parent\"><img src=\"https://colab.research.google.com/assets/colab-badge.svg\" alt=\"Open In Colab\"/></a>"
      ]
    },
    {
      "cell_type": "code",
      "execution_count": 1,
      "metadata": {
        "id": "IpmcUzozt4qH"
      },
      "outputs": [],
      "source": [
        "class Test:\n",
        "    def show(self, val):\n",
        "        print(self, val)    # selfとvalを出力"
      ]
    },
    {
      "cell_type": "code",
      "source": [
        "s = str('Python')  # このようにも書けるが「str = 'Python'」と同じこと\n",
        "print(s)"
      ],
      "metadata": {
        "colab": {
          "base_uri": "https://localhost:8080/"
        },
        "id": "-SY7Dyf8u0dw",
        "outputId": "73e4c6fc-70ff-477d-8bc5-9edbcdc61ad4"
      },
      "execution_count": 3,
      "outputs": [
        {
          "output_type": "stream",
          "name": "stdout",
          "text": [
            "Python\n"
          ]
        }
      ]
    },
    {
      "cell_type": "code",
      "source": [
        "test = Test()           # Testクラスをインスタンス化してオブジェクトの参照を代入\n",
        "test.show('こんにちは') # Testオブジェクトからshow()メソッドを実行"
      ],
      "metadata": {
        "colab": {
          "base_uri": "https://localhost:8080/"
        },
        "id": "VCWzfRsiu9Ue",
        "outputId": "cbcfbbf0-cae8-48de-a9d7-0af47a6f01bb"
      },
      "execution_count": 4,
      "outputs": [
        {
          "output_type": "stream",
          "name": "stdout",
          "text": [
            "<__main__.Test object at 0x7f58706d1130> こんにちは\n"
          ]
        }
      ]
    }
  ]
}